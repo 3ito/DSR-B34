{
 "cells": [
  {
   "cell_type": "code",
   "execution_count": 5,
   "id": "790e0015-b2b3-4d74-8923-5593ab31eaab",
   "metadata": {
    "tags": []
   },
   "outputs": [
    {
     "name": "stdout",
     "output_type": "stream",
     "text": [
      "d\n"
     ]
    }
   ],
   "source": [
    "print(\"d\")\n"
   ]
  },
  {
   "cell_type": "code",
   "execution_count": null,
   "id": "200e6065-ab35-4b0e-98fb-17d0a57ed96d",
   "metadata": {},
   "outputs": [],
   "source": []
  }
 ],
 "metadata": {
  "kernelspec": {
   "display_name": "DSR-B34",
   "language": "python",
   "name": "dsr-b34"
  },
  "language_info": {
   "codemirror_mode": {
    "name": "ipython",
    "version": 3
   },
   "file_extension": ".py",
   "mimetype": "text/x-python",
   "name": "python",
   "nbconvert_exporter": "python",
   "pygments_lexer": "ipython3",
   "version": "3.10.10"
  }
 },
 "nbformat": 4,
 "nbformat_minor": 5
}
